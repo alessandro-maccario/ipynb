{
 "cells": [
  {
   "cell_type": "markdown",
   "metadata": {},
   "source": [
    "## Read the files 2017_german_election_overall.csv and 2017_german_election_party.csv from the german-election-2017 dataset."
   ]
  },
  {
   "cell_type": "code",
   "execution_count": null,
   "metadata": {},
   "outputs": [],
   "source": [
    "# Importing Pandas as pd\n",
    "import pandas as pd"
   ]
  },
  {
   "cell_type": "markdown",
   "metadata": {},
   "source": [
    "To write the correct path to the dataset, I have to know what is the current directory"
   ]
  },
  {
   "cell_type": "code",
   "execution_count": null,
   "metadata": {},
   "outputs": [],
   "source": [
    "!ls"
   ]
  },
  {
   "cell_type": "code",
   "execution_count": null,
   "metadata": {},
   "outputs": [],
   "source": [
    "df_overall = pd.read_csv(\"2017_german_election_overall.csv\")"
   ]
  },
  {
   "cell_type": "code",
   "execution_count": null,
   "metadata": {},
   "outputs": [],
   "source": [
    "df_party = pd.read_csv(\"2017_german_election_party.csv\")"
   ]
  },
  {
   "cell_type": "code",
   "execution_count": null,
   "metadata": {},
   "outputs": [],
   "source": [
    "# See all the attributes\n",
    "df_overall.columns"
   ]
  },
  {
   "cell_type": "code",
   "execution_count": null,
   "metadata": {},
   "outputs": [],
   "source": [
    "# See all the attributes\n",
    "df_party.columns"
   ]
  },
  {
   "cell_type": "code",
   "execution_count": null,
   "metadata": {},
   "outputs": [],
   "source": [
    "# Are there any missing values?\n",
    "df_overall['invalid_first_votes'].isnull().sum()"
   ]
  },
  {
   "cell_type": "code",
   "execution_count": null,
   "metadata": {
    "scrolled": true
   },
   "outputs": [],
   "source": [
    "df_overall.head()"
   ]
  },
  {
   "cell_type": "code",
   "execution_count": null,
   "metadata": {},
   "outputs": [],
   "source": [
    "df_party.head()"
   ]
  },
  {
   "cell_type": "markdown",
   "metadata": {},
   "source": [
    "## For each area, compute the percentage of the voters over the registered voters"
   ]
  },
  {
   "cell_type": "code",
   "execution_count": null,
   "metadata": {},
   "outputs": [],
   "source": [
    "# Aggiungi una nuova colonna di nome 'Voters_Percentages_Areas' dove, riga per riga, si avrà una percentuale.\n",
    "# E' necessario non fare un ragionamento del tipo: \"fai riga per riga una cerca azione\" (tipico del ragionamento\n",
    "# in Python)\n",
    "\n",
    "df_overall['Voters_Percentages_Areas'] = round((df_overall['total_votes']/df_overall['registered.voters'])*100, 2)"
   ]
  },
  {
   "cell_type": "markdown",
   "metadata": {},
   "source": [
    "Show only the relevant columns"
   ]
  },
  {
   "cell_type": "code",
   "execution_count": null,
   "metadata": {},
   "outputs": [],
   "source": [
    "df_overall[['area_names','state','Voters_Percentages_Areas']]"
   ]
  },
  {
   "cell_type": "markdown",
   "metadata": {},
   "source": [
    "## For each state, compute the total number of registered voters\n",
    "\n",
    "Since we do not know (yet) how to group rows, but we know how to select some rows, we can compute the set of all states, then for each state we can compute the total number of voters.\n",
    "\n",
    "Hence we start by computing the states"
   ]
  },
  {
   "cell_type": "code",
   "execution_count": null,
   "metadata": {
    "scrolled": true
   },
   "outputs": [],
   "source": [
    "# Create a set inside a list of all the unique states\n",
    "\n",
    "states = list(set(df_overall['state']))\n",
    "states"
   ]
  },
  {
   "cell_type": "markdown",
   "metadata": {},
   "source": [
    "Then we compute the overall number of voters for each state (not needed for now, but it will be useful later on)"
   ]
  },
  {
   "cell_type": "code",
   "execution_count": null,
   "metadata": {},
   "outputs": [],
   "source": [
    "# We compute the sum of all the pairs in each state\n",
    "votes = {}\n",
    "\n",
    "for elem in states:\n",
    "    votes[elem] = sum(df_overall[df_overall['state'] == elem]['total_votes'])\n",
    "votes"
   ]
  },
  {
   "cell_type": "markdown",
   "metadata": {},
   "source": [
    "Then we build a dict `registered` where for each state we compute the number of registered voters"
   ]
  },
  {
   "cell_type": "code",
   "execution_count": null,
   "metadata": {},
   "outputs": [],
   "source": [
    "registered = {}\n",
    "\n",
    "for stato in states:\n",
    "    # poiché nella set non ho ripetizioni di stati, non mi serve un if\n",
    "    registered[stato] = sum(df_overall[df_overall['state'] == stato]['registered.voters'])\n",
    "registered"
   ]
  },
  {
   "cell_type": "markdown",
   "metadata": {},
   "source": [
    "## How many registered voters are there in Bayern or Saarland (compute the voters in each state and the sum of the two numbers)"
   ]
  },
  {
   "cell_type": "markdown",
   "metadata": {},
   "source": [
    "Since we already have the relevant data in the `registered` dict, we can simply sum those values "
   ]
  },
  {
   "cell_type": "code",
   "execution_count": null,
   "metadata": {},
   "outputs": [],
   "source": [
    "registered['Bayern'] + registered['Saarland']"
   ]
  },
  {
   "cell_type": "markdown",
   "metadata": {},
   "source": [
    "Now we will solve again the exercise, without using the dict.\n",
    "Instead we will select the rows of each state."
   ]
  },
  {
   "cell_type": "markdown",
   "metadata": {},
   "source": [
    "First we check if we can select the rows regarding Bayern"
   ]
  },
  {
   "cell_type": "code",
   "execution_count": null,
   "metadata": {},
   "outputs": [],
   "source": [
    "df_overall[df_overall['state'] == 'Bayern']"
   ]
  },
  {
   "cell_type": "markdown",
   "metadata": {},
   "source": [
    "Then we sum the registered voters. Once the overall procedure is completed, we can (and should) delete the previous cell."
   ]
  },
  {
   "cell_type": "code",
   "execution_count": null,
   "metadata": {},
   "outputs": [],
   "source": [
    "df_overall[df_overall['state'] == 'Bayern']['registered.voters'].sum()"
   ]
  },
  {
   "cell_type": "markdown",
   "metadata": {},
   "source": [
    "Finally we solve the exercise"
   ]
  },
  {
   "cell_type": "code",
   "execution_count": null,
   "metadata": {},
   "outputs": [],
   "source": [
    "somma = 0\n",
    "\n",
    "for stato in ['Bayern', 'Saarland']: \n",
    "    somma += df_overall[df_overall['state'] == stato]['registered.voters'].sum()\n",
    "    \n",
    "somma"
   ]
  },
  {
   "cell_type": "markdown",
   "metadata": {},
   "source": [
    "## For each state, compute the number of votes (first vote) for each party\n",
    "\n",
    "In  this case, we also need the list of parties."
   ]
  },
  {
   "cell_type": "code",
   "execution_count": null,
   "metadata": {},
   "outputs": [],
   "source": [
    "parties = list(set(df_party['party']))"
   ]
  },
  {
   "cell_type": "code",
   "execution_count": null,
   "metadata": {},
   "outputs": [],
   "source": [
    "votes_party = {}\n",
    "\n",
    "for stato in states:\n",
    "    for party in parties:\n",
    "        votes_party[(stato, party)] = df_party[(df_party['state'] == stato) & (df_party['party'] == party)]['votes_first_vote'].sum()\n",
    "        \n",
    "votes_party"
   ]
  },
  {
   "cell_type": "markdown",
   "metadata": {},
   "source": [
    "#### Same results either with \"set(df_party['party'])\" or \"unique()\":"
   ]
  },
  {
   "cell_type": "code",
   "execution_count": null,
   "metadata": {},
   "outputs": [],
   "source": [
    "votes_party = {}\n",
    "\n",
    "for stato in df_party['state'].unique():\n",
    "    for party in df_party['party'].unique():\n",
    "        votes_party[(stato, party)] = df_party[(df_party['state'] == stato) & (df_party['party'] == party)]['votes_first_vote'].sum()\n",
    "        \n",
    "votes_party"
   ]
  },
  {
   "cell_type": "markdown",
   "metadata": {},
   "source": [
    "The votes for each party are stored in the `german_party` dataframe.\n",
    "Again, we do not know how to group rows, hence I have to select the rows regarding any party and any state."
   ]
  },
  {
   "cell_type": "markdown",
   "metadata": {},
   "source": [
    "### For each state and each party, compute the area where the party has taken most total votes"
   ]
  },
  {
   "cell_type": "code",
   "execution_count": null,
   "metadata": {},
   "outputs": [],
   "source": [
    "for state in states:\n",
    "    for party in parties:\n",
    "        votes = df_party[(df_party['state'] == state) & (df_party['party'] == party)]\n",
    "        max_votes = max(votes['votes_first_vote'])\n",
    "        area_votes = votes[votes['votes_first_vote'] == max_votes]['area_name']\n",
    "        # Print: state, party, max_votes and the areas where that votes\n",
    "        print(state, party, max_votes, list(area_votes))"
   ]
  }
 ],
 "metadata": {
  "kernelspec": {
   "display_name": "Python 3",
   "language": "python",
   "name": "python3"
  },
  "language_info": {
   "codemirror_mode": {
    "name": "ipython",
    "version": 3
   },
   "file_extension": ".py",
   "mimetype": "text/x-python",
   "name": "python",
   "nbconvert_exporter": "python",
   "pygments_lexer": "ipython3",
   "version": "3.8.5"
  }
 },
 "nbformat": 4,
 "nbformat_minor": 2
}
